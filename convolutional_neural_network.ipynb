{
  "nbformat": 4,
  "nbformat_minor": 0,
  "metadata": {
    "colab": {
      "name": "convolutional_neural_network.ipynb",
      "provenance": [],
      "collapsed_sections": [],
      "toc_visible": true
    },
    "kernelspec": {
      "name": "python3",
      "display_name": "Python 3.7.10 64-bit ('mlenv': conda)"
    },
    "interpreter": {
      "hash": "5ad06826974dc060fa37eead2112af9e641fe3b133a4323218f615d88ba76b28"
    }
  },
  "cells": [
    {
      "cell_type": "markdown",
      "metadata": {
        "id": "3DR-eO17geWu",
        "colab_type": "text"
      },
      "source": [
        "# Convolutional Neural Network"
      ]
    },
    {
      "cell_type": "markdown",
      "metadata": {
        "id": "EMefrVPCg-60",
        "colab_type": "text"
      },
      "source": [
        "### Importing the libraries"
      ]
    },
    {
      "cell_type": "code",
      "execution_count": 1,
      "metadata": {},
      "outputs": [],
      "source": [
        "import tensorflow as tf\n",
        "from keras.preprocessing.image import ImageDataGenerator "
      ]
    },
    {
      "cell_type": "code",
      "execution_count": 2,
      "metadata": {},
      "outputs": [
        {
          "output_type": "execute_result",
          "data": {
            "text/plain": [
              "'2.5.0'"
            ]
          },
          "metadata": {},
          "execution_count": 2
        }
      ],
      "source": [
        "tf.__version__"
      ]
    },
    {
      "cell_type": "markdown",
      "metadata": {
        "id": "oxQxCBWyoGPE",
        "colab_type": "text"
      },
      "source": [
        "## Part 1 - Data Preprocessing"
      ]
    },
    {
      "cell_type": "markdown",
      "metadata": {
        "id": "MvE-heJNo3GG",
        "colab_type": "text"
      },
      "source": [
        "### Preprocessing the Training set"
      ]
    },
    {
      "cell_type": "code",
      "execution_count": 3,
      "metadata": {},
      "outputs": [
        {
          "output_type": "stream",
          "name": "stdout",
          "text": [
            "Found 8000 images belonging to 2 classes.\n"
          ]
        }
      ],
      "source": [
        "train_datagen = ImageDataGenerator(\n",
        "        rescale=1./255,\n",
        "        shear_range=0.2,\n",
        "        zoom_range=0.2,\n",
        "        horizontal_flip=True)\n",
        "training_set = train_datagen.flow_from_directory(\n",
        "        'dataset/training_set',\n",
        "        target_size=(64, 64),\n",
        "        batch_size=32,\n",
        "        class_mode='binary')"
      ]
    },
    {
      "cell_type": "markdown",
      "metadata": {
        "id": "mrCMmGw9pHys",
        "colab_type": "text"
      },
      "source": [
        "### Preprocessing the Test set"
      ]
    },
    {
      "cell_type": "code",
      "execution_count": 4,
      "metadata": {},
      "outputs": [
        {
          "output_type": "stream",
          "name": "stdout",
          "text": [
            "Found 2000 images belonging to 2 classes.\n"
          ]
        }
      ],
      "source": [
        "test_datagen = ImageDataGenerator(rescale=1./255)\n",
        "test_set = test_datagen.flow_from_directory(\n",
        "        'dataset/test_set',\n",
        "        target_size=(64, 64),\n",
        "        batch_size=32,\n",
        "        class_mode='binary')"
      ]
    },
    {
      "cell_type": "markdown",
      "metadata": {
        "id": "af8O4l90gk7B",
        "colab_type": "text"
      },
      "source": [
        "## Part 2 - Building the CNN"
      ]
    },
    {
      "cell_type": "markdown",
      "metadata": {
        "id": "ces1gXY2lmoX",
        "colab_type": "text"
      },
      "source": [
        "### Initialising the CNN"
      ]
    },
    {
      "cell_type": "code",
      "execution_count": 5,
      "metadata": {},
      "outputs": [],
      "source": [
        "model = tf.keras.models.Sequential()"
      ]
    },
    {
      "cell_type": "markdown",
      "metadata": {
        "id": "u5YJj_XMl5LF",
        "colab_type": "text"
      },
      "source": [
        "### Step 1 - Convolution"
      ]
    },
    {
      "cell_type": "code",
      "execution_count": 6,
      "metadata": {},
      "outputs": [],
      "source": [
        "model.add(tf.keras.layers.Conv2D(filters=32, kernel_size=3, activation='relu', input_shape=[64, 64, 3]))"
      ]
    },
    {
      "source": [
        "input_shape ='(64, 64, 3)'  because size of images = 64*64 and '3' for colored images. '1' for black and white images"
      ],
      "cell_type": "markdown",
      "metadata": {}
    },
    {
      "cell_type": "markdown",
      "metadata": {
        "id": "tf87FpvxmNOJ",
        "colab_type": "text"
      },
      "source": [
        "### Step 2 - Pooling"
      ]
    },
    {
      "cell_type": "code",
      "execution_count": 7,
      "metadata": {},
      "outputs": [],
      "source": [
        "model.add(tf.keras.layers.MaxPool2D(pool_size=2, strides=2))"
      ]
    },
    {
      "cell_type": "markdown",
      "metadata": {
        "id": "xaTOgD8rm4mU",
        "colab_type": "text"
      },
      "source": [
        "### Adding a second convolutional layer"
      ]
    },
    {
      "cell_type": "code",
      "execution_count": 8,
      "metadata": {},
      "outputs": [],
      "source": [
        "model.add(tf.keras.layers.Conv2D(filters=32, kernel_size=3, activation='relu'))\n",
        "model.add(tf.keras.layers.MaxPool2D(pool_size=2, strides=2))"
      ]
    },
    {
      "cell_type": "markdown",
      "metadata": {
        "id": "tmiEuvTunKfk",
        "colab_type": "text"
      },
      "source": [
        "### Step 3 - Flattening"
      ]
    },
    {
      "cell_type": "code",
      "execution_count": 9,
      "metadata": {},
      "outputs": [],
      "source": [
        "model.add(tf.keras.layers.Flatten())"
      ]
    },
    {
      "cell_type": "markdown",
      "metadata": {
        "id": "dAoSECOm203v",
        "colab_type": "text"
      },
      "source": [
        "### Step 4 - Full Connection"
      ]
    },
    {
      "cell_type": "code",
      "execution_count": 10,
      "metadata": {},
      "outputs": [],
      "source": [
        "model.add(tf.keras.layers.Dense(units=128, activation='relu'))"
      ]
    },
    {
      "cell_type": "markdown",
      "metadata": {
        "id": "yTldFvbX28Na",
        "colab_type": "text"
      },
      "source": [
        "### Step 5 - Output Layer"
      ]
    },
    {
      "cell_type": "code",
      "execution_count": 11,
      "metadata": {},
      "outputs": [],
      "source": [
        "model.add(tf.keras.layers.Dense(units=1, activation='sigmoid'))"
      ]
    },
    {
      "cell_type": "markdown",
      "metadata": {
        "id": "D6XkI90snSDl",
        "colab_type": "text"
      },
      "source": [
        "## Part 3 - Training the CNN"
      ]
    },
    {
      "cell_type": "markdown",
      "metadata": {
        "id": "vfrFQACEnc6i",
        "colab_type": "text"
      },
      "source": [
        "### Compiling the CNN"
      ]
    },
    {
      "cell_type": "code",
      "execution_count": 12,
      "metadata": {},
      "outputs": [],
      "source": [
        "model.compile(optimizer='adam', loss='binary_crossentropy', metrics=['accuracy'] )"
      ]
    },
    {
      "cell_type": "markdown",
      "metadata": {
        "id": "ehS-v3MIpX2h",
        "colab_type": "text"
      },
      "source": [
        "### Training the CNN on the Training set and evaluating it on the Test set"
      ]
    },
    {
      "cell_type": "code",
      "execution_count": 13,
      "metadata": {},
      "outputs": [
        {
          "output_type": "stream",
          "name": "stdout",
          "text": [
            "Epoch 1/25\n",
            "250/250 [==============================] - 192s 690ms/step - loss: 0.6821 - accuracy: 0.5652 - val_loss: 0.6540 - val_accuracy: 0.6325\n",
            "Epoch 2/25\n",
            "250/250 [==============================] - 51s 206ms/step - loss: 0.6457 - accuracy: 0.6332 - val_loss: 0.6292 - val_accuracy: 0.6560\n",
            "Epoch 3/25\n",
            "250/250 [==============================] - 50s 200ms/step - loss: 0.6119 - accuracy: 0.6735 - val_loss: 0.5846 - val_accuracy: 0.6935\n",
            "Epoch 4/25\n",
            "250/250 [==============================] - 48s 191ms/step - loss: 0.5793 - accuracy: 0.6963 - val_loss: 0.5547 - val_accuracy: 0.7240\n",
            "Epoch 5/25\n",
            "250/250 [==============================] - 46s 183ms/step - loss: 0.5499 - accuracy: 0.7197 - val_loss: 0.5309 - val_accuracy: 0.7510\n",
            "Epoch 6/25\n",
            "250/250 [==============================] - 42s 170ms/step - loss: 0.5204 - accuracy: 0.7500 - val_loss: 0.5239 - val_accuracy: 0.7500\n",
            "Epoch 7/25\n",
            "250/250 [==============================] - 45s 179ms/step - loss: 0.4986 - accuracy: 0.7525 - val_loss: 0.4970 - val_accuracy: 0.7595\n",
            "Epoch 8/25\n",
            "250/250 [==============================] - 44s 176ms/step - loss: 0.4772 - accuracy: 0.7665 - val_loss: 0.5001 - val_accuracy: 0.7575\n",
            "Epoch 9/25\n",
            "250/250 [==============================] - 46s 184ms/step - loss: 0.4496 - accuracy: 0.7853 - val_loss: 0.5619 - val_accuracy: 0.7415\n",
            "Epoch 10/25\n",
            "250/250 [==============================] - 47s 188ms/step - loss: 0.4431 - accuracy: 0.7895 - val_loss: 0.4683 - val_accuracy: 0.7915\n",
            "Epoch 11/25\n",
            "250/250 [==============================] - 45s 182ms/step - loss: 0.4183 - accuracy: 0.8084 - val_loss: 0.4660 - val_accuracy: 0.7955\n",
            "Epoch 12/25\n",
            "250/250 [==============================] - 44s 177ms/step - loss: 0.3978 - accuracy: 0.8169 - val_loss: 0.4765 - val_accuracy: 0.7920\n",
            "Epoch 13/25\n",
            "250/250 [==============================] - 47s 189ms/step - loss: 0.3762 - accuracy: 0.8307 - val_loss: 0.4761 - val_accuracy: 0.7830\n",
            "Epoch 14/25\n",
            "250/250 [==============================] - 41s 165ms/step - loss: 0.3612 - accuracy: 0.8393 - val_loss: 0.4723 - val_accuracy: 0.8020\n",
            "Epoch 15/25\n",
            "250/250 [==============================] - 51s 206ms/step - loss: 0.3341 - accuracy: 0.8534 - val_loss: 0.4666 - val_accuracy: 0.7765\n",
            "Epoch 16/25\n",
            "250/250 [==============================] - 45s 179ms/step - loss: 0.3186 - accuracy: 0.8605 - val_loss: 0.4765 - val_accuracy: 0.7880\n",
            "Epoch 17/25\n",
            "250/250 [==============================] - 46s 185ms/step - loss: 0.2941 - accuracy: 0.8719 - val_loss: 0.4810 - val_accuracy: 0.7875\n",
            "Epoch 18/25\n",
            "250/250 [==============================] - 51s 202ms/step - loss: 0.2900 - accuracy: 0.8744 - val_loss: 0.4924 - val_accuracy: 0.7925\n",
            "Epoch 19/25\n",
            "250/250 [==============================] - 45s 181ms/step - loss: 0.2726 - accuracy: 0.8859 - val_loss: 0.4705 - val_accuracy: 0.7995\n",
            "Epoch 20/25\n",
            "250/250 [==============================] - 43s 172ms/step - loss: 0.2570 - accuracy: 0.8940 - val_loss: 0.4882 - val_accuracy: 0.7880\n",
            "Epoch 21/25\n",
            "250/250 [==============================] - 46s 186ms/step - loss: 0.2387 - accuracy: 0.8997 - val_loss: 0.5124 - val_accuracy: 0.7970\n",
            "Epoch 22/25\n",
            "250/250 [==============================] - 47s 187ms/step - loss: 0.2105 - accuracy: 0.9150 - val_loss: 0.5221 - val_accuracy: 0.7980\n",
            "Epoch 23/25\n",
            "250/250 [==============================] - 45s 181ms/step - loss: 0.2057 - accuracy: 0.9176 - val_loss: 0.5422 - val_accuracy: 0.7950\n",
            "Epoch 24/25\n",
            "250/250 [==============================] - 47s 189ms/step - loss: 0.1973 - accuracy: 0.9194 - val_loss: 0.5849 - val_accuracy: 0.7840\n",
            "Epoch 25/25\n",
            "250/250 [==============================] - 48s 193ms/step - loss: 0.1807 - accuracy: 0.9271 - val_loss: 0.5857 - val_accuracy: 0.7930\n"
          ]
        },
        {
          "output_type": "execute_result",
          "data": {
            "text/plain": [
              "<tensorflow.python.keras.callbacks.History at 0x1c970bc41c8>"
            ]
          },
          "metadata": {},
          "execution_count": 13
        }
      ],
      "source": [
        "model.fit(training_set, validation_data= test_set, epochs=25)"
      ]
    },
    {
      "cell_type": "markdown",
      "metadata": {
        "id": "U3PZasO0006Z",
        "colab_type": "text"
      },
      "source": [
        "## Part 4 - Making a single prediction"
      ]
    },
    {
      "cell_type": "code",
      "execution_count": 14,
      "metadata": {},
      "outputs": [
        {
          "output_type": "stream",
          "name": "stdout",
          "text": [
            "dog\n"
          ]
        }
      ],
      "source": [
        "import numpy as np\n",
        "from keras.preprocessing import image\n",
        "\n",
        "test_image = image.load_img('dataset/single_prediction/cat_or_dog_1.jpg', target_size=[64,64])\n",
        "test_image = image.img_to_array(test_image)\n",
        "test_image = np.expand_dims(test_image, axis=0) #dimension is added for the same reason as [[]] in ANN\n",
        "result = model.predict(test_image/255.0)\n",
        "training_set.class_indices\n",
        "if result[0][0] >0.5:\n",
        "    prediction='dog'\n",
        "else:\n",
        "    prediction='cat'\n",
        "print(prediction)"
      ]
    },
    {
      "cell_type": "code",
      "execution_count": 17,
      "metadata": {},
      "outputs": [
        {
          "output_type": "execute_result",
          "data": {
            "text/plain": [
              "(1, 64, 64, 3)"
            ]
          },
          "metadata": {},
          "execution_count": 17
        }
      ],
      "source": [
        "test_image.shape"
      ]
    }
  ]
}